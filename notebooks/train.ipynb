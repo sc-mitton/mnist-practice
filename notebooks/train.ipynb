{
 "cells": [
  {
   "cell_type": "code",
   "execution_count": 2,
   "metadata": {},
   "outputs": [],
   "source": [
    "import sys, os\n",
    "sys.path.append(os.path.abspath(os.path.join(os.getcwd(), '..')))\n",
    "import matplotlib.pyplot as plt\n",
    "\n",
    "from mnist.model import Model\n",
    "from mnist.training import Training\n",
    "from data.dataset import get_mnist_data\n",
    "%load_ext autoreload\n",
    "%autoreload 2"
   ]
  },
  {
   "cell_type": "code",
   "execution_count": null,
   "metadata": {},
   "outputs": [
    {
     "name": "stdout",
     "output_type": "stream",
     "text": [
      "Length of training data: 750\n",
      "Length of validation data: 188\n",
      "epoch:  0 training on:  750 examples\n",
      "validating on  188 examples\n",
      "correct:  11622 total:  12000\n",
      "Test Loss: 0.1003, Test Accuracy: 96.85%\n",
      "epoch:  1 training on:  750 examples\n",
      "validating on  188 examples\n",
      "correct:  11786 total:  12000\n",
      "Test Loss: 0.0600, Test Accuracy: 98.22%\n",
      "epoch:  2 training on:  750 examples\n",
      "validating on  188 examples\n",
      "correct:  11845 total:  12000\n",
      "Test Loss: 0.0416, Test Accuracy: 98.71%\n",
      "epoch:  3 training on:  750 examples\n",
      "validating on  188 examples\n",
      "correct:  11843 total:  12000\n",
      "Test Loss: 0.0441, Test Accuracy: 98.69%\n",
      "epoch:  4 training on:  750 examples\n",
      "validating on  188 examples\n",
      "correct:  11866 total:  12000\n",
      "Test Loss: 0.0346, Test Accuracy: 98.88%\n",
      "epoch:  5 training on:  750 examples\n",
      "validating on  188 examples\n",
      "correct:  11861 total:  12000\n",
      "Test Loss: 0.0353, Test Accuracy: 98.84%\n",
      "epoch:  6 training on:  750 examples\n",
      "validating on  188 examples\n",
      "correct:  11901 total:  12000\n",
      "Test Loss: 0.0302, Test Accuracy: 99.17%\n",
      "epoch:  7 training on:  750 examples\n",
      "validating on  188 examples\n",
      "correct:  11909 total:  12000\n",
      "Test Loss: 0.0241, Test Accuracy: 99.24%\n",
      "epoch:  8 training on:  750 examples\n",
      "validating on  188 examples\n",
      "correct:  11900 total:  12000\n",
      "Test Loss: 0.0261, Test Accuracy: 99.17%\n",
      "epoch:  9 training on:  750 examples\n",
      "validating on  188 examples\n",
      "correct:  11903 total:  12000\n",
      "Test Loss: 0.0248, Test Accuracy: 99.19%\n",
      "epoch:  10 training on:  750 examples\n",
      "validating on  188 examples\n",
      "correct:  11918 total:  12000\n",
      "Test Loss: 0.0225, Test Accuracy: 99.32%\n",
      "epoch:  11 training on:  750 examples\n",
      "validating on  188 examples\n",
      "correct:  11911 total:  12000\n",
      "Test Loss: 0.0234, Test Accuracy: 99.26%\n",
      "epoch:  12 training on:  750 examples\n",
      "validating on  188 examples\n",
      "correct:  11908 total:  12000\n",
      "Test Loss: 0.0262, Test Accuracy: 99.23%\n",
      "epoch:  13 training on:  750 examples\n",
      "validating on  188 examples\n",
      "correct:  11916 total:  12000\n",
      "Test Loss: 0.0228, Test Accuracy: 99.30%\n",
      "epoch:  14 training on:  750 examples\n",
      "validating on  188 examples\n",
      "correct:  11928 total:  12000\n",
      "Test Loss: 0.0186, Test Accuracy: 99.40%\n",
      "epoch:  15 training on:  750 examples\n",
      "validating on  188 examples\n",
      "correct:  11918 total:  12000\n",
      "Test Loss: 0.0196, Test Accuracy: 99.32%\n",
      "epoch:  16 training on:  750 examples\n",
      "validating on  188 examples\n",
      "correct:  11935 total:  12000\n",
      "Test Loss: 0.0205, Test Accuracy: 99.46%\n",
      "epoch:  17 training on:  750 examples\n",
      "validating on  188 examples\n",
      "correct:  11916 total:  12000\n",
      "Test Loss: 0.0228, Test Accuracy: 99.30%\n",
      "epoch:  18 training on:  750 examples\n",
      "validating on  188 examples\n",
      "correct:  11936 total:  12000\n",
      "Test Loss: 0.0188, Test Accuracy: 99.47%\n",
      "epoch:  19 training on:  750 examples\n",
      "validating on  188 examples\n",
      "correct:  11934 total:  12000\n",
      "Test Loss: 0.0184, Test Accuracy: 99.45%\n",
      "epoch:  20 training on:  750 examples\n",
      "validating on  188 examples\n",
      "correct:  11932 total:  12000\n",
      "Test Loss: 0.0212, Test Accuracy: 99.43%\n",
      "epoch:  21 training on:  750 examples\n",
      "validating on  188 examples\n",
      "correct:  11930 total:  12000\n",
      "Test Loss: 0.0198, Test Accuracy: 99.42%\n",
      "epoch:  22 training on:  750 examples\n",
      "validating on  188 examples\n",
      "correct:  11923 total:  12000\n",
      "Test Loss: 0.0222, Test Accuracy: 99.36%\n",
      "epoch:  23 training on:  750 examples\n",
      "validating on  188 examples\n",
      "correct:  11935 total:  12000\n",
      "Test Loss: 0.0187, Test Accuracy: 99.46%\n",
      "epoch:  24 training on:  750 examples\n",
      "validating on  188 examples\n",
      "correct:  11928 total:  12000\n",
      "Test Loss: 0.0198, Test Accuracy: 99.40%\n",
      "epoch:  25 training on:  750 examples\n",
      "validating on  188 examples\n",
      "correct:  11933 total:  12000\n",
      "Test Loss: 0.0208, Test Accuracy: 99.44%\n",
      "epoch:  26 training on:  750 examples\n",
      "validating on  188 examples\n",
      "correct:  11931 total:  12000\n",
      "Test Loss: 0.0193, Test Accuracy: 99.42%\n",
      "epoch:  27 training on:  750 examples\n",
      "validating on  188 examples\n",
      "correct:  11938 total:  12000\n",
      "Test Loss: 0.0174, Test Accuracy: 99.48%\n",
      "epoch:  28 training on:  750 examples\n",
      "validating on  188 examples\n",
      "correct:  11939 total:  12000\n",
      "Test Loss: 0.0193, Test Accuracy: 99.49%\n",
      "epoch:  29 training on:  750 examples\n",
      "validating on  188 examples\n",
      "correct:  11932 total:  12000\n",
      "Test Loss: 0.0212, Test Accuracy: 99.43%\n"
     ]
    }
   ],
   "source": [
    "train_loader, val_loader, test_loader = get_mnist_data(validation_split=.2)\n",
    "\n",
    "print(f\"Length of training data: {len(train_loader)}\")\n",
    "print(f\"Length of validation data: {len(val_loader)}\")\n",
    "\n",
    "model = Model()\n",
    "\n",
    "trainer = Training(model, val_loader=val_loader, train_loader=train_loader)\n",
    "\n",
    "training_loss, validation_loss = trainer.train(epochs=30)"
   ]
  },
  {
   "cell_type": "code",
   "execution_count": 4,
   "metadata": {},
   "outputs": [
    {
     "data": {
      "text/plain": [
       "([0.18492918997444213,\n",
       "  0.03888199713709764,\n",
       "  0.027946716107272854,\n",
       "  0.02077854517880284,\n",
       "  0.016803709438235576,\n",
       "  0.014215276775813739,\n",
       "  0.005189613455062499,\n",
       "  0.0018513364878396412,\n",
       "  0.0021730641300310555,\n",
       "  0.002086209458391522,\n",
       "  0.005475965125827315,\n",
       "  0.0011437333644347897,\n",
       "  0.00021970142080188755,\n",
       "  8.46840258523116e-05,\n",
       "  4.921545760144378e-05],\n",
       " [0.10436304258133107,\n",
       "  0.05577385476251638,\n",
       "  0.042410852514489734,\n",
       "  0.050792907569631736,\n",
       "  0.046911790599396944,\n",
       "  0.04843099666980746,\n",
       "  0.038484713730958124,\n",
       "  0.04743314497942662,\n",
       "  0.06164876903401461,\n",
       "  0.050167969646529496,\n",
       "  0.05093741081178968,\n",
       "  0.045341133991018856,\n",
       "  0.04713027365582615,\n",
       "  0.047684628509880186,\n",
       "  0.049697053035958595])"
      ]
     },
     "execution_count": 4,
     "metadata": {},
     "output_type": "execute_result"
    }
   ],
   "source": [
    "training_loss, validation_loss"
   ]
  },
  {
   "cell_type": "code",
   "execution_count": 12,
   "metadata": {},
   "outputs": [
    {
     "data": {
      "image/png": "[encoded data removed]",
      "text/plain": [
       "<Figure size 640x480 with 1 Axes>"
      ]
     },
     "metadata": {},
     "output_type": "display_data"
    },
    {
     "name": "stdout",
     "output_type": "stream",
     "text": [
      "Test data length: 157\n",
      "validating on  157 examples\n",
      "correct:  9947 total:  10000\n",
      "Test Loss: 0.0162, Test Accuracy: 99.47%\n"
     ]
    },
    {
     "data": {
      "text/plain": [
       "0.016201621519369484"
      ]
     },
     "execution_count": 12,
     "metadata": {},
     "output_type": "execute_result"
    }
   ],
   "source": [
    "# Plot training vs validation loss\n",
    "plt.plot(training_loss, label=\"Training Loss\", color='b')\n",
    "plt.plot(validation_loss, label=\"Validation Loss\", color='r')\n",
    "\n",
    "plt.xlabel(\"Epoch\")\n",
    "plt.ylabel(\"Loss\")\n",
    "plt.title(\"Training vs Validation Loss\")\n",
    "plt.legend()\n",
    "plt.show()\n",
    "\n",
    "print(f\"Test data length: {len(test_loader)}\")\n",
    "trainer.test(test_loader)\n"
   ]
  },
  {
   "cell_type": "code",
   "execution_count": 140,
   "metadata": {},
   "outputs": [
    {
     "name": "stdout",
     "output_type": "stream",
     "text": [
      "Answer:  4\n",
      "tensor([[1.8703e-11, 2.6629e-09, 2.6179e-09, 8.3392e-11, 1.0000e+00, 7.0841e-10,\n",
      "         1.7137e-09, 3.4486e-08, 1.9225e-09, 2.8273e-07]],\n",
      "       grad_fn=<SoftmaxBackward0>)\n",
      "Guess: 4\n"
     ]
    },
    {
     "name": "stderr",
     "output_type": "stream",
     "text": [
      "/var/folders/0d/1x2vhj313rldmkyw74xqfq8h0000gn/T/ipykernel_55812/4156479551.py:26: UserWarning: Implicit dimension choice for softmax has been deprecated. Change the call to include dim=X as an argument.\n",
      "  print(F.softmax(output))\n"
     ]
    },
    {
     "data": {
      "image/png": "[encoded data removed]",
      "text/plain": [
       "<Figure size 640x480 with 1 Axes>"
      ]
     },
     "metadata": {},
     "output_type": "display_data"
    }
   ],
   "source": [
    "import os, random\n",
    "import torch\n",
    "import torch.nn.functional as F\n",
    "from torchvision import datasets, transforms\n",
    "\n",
    "root_dir = os.path.abspath(os.path.join(os.getcwd(), '..'))\n",
    "\n",
    "transform = transforms.Compose([\n",
    "    transforms.RandomRotation(10),\n",
    "    transforms.RandomAffine(0, translate=(0.1, 0.1)),\n",
    "    transforms.RandomResizedCrop(28, scale=(0.9, 1.1)),\n",
    "    transforms.ToTensor(),\n",
    "    transforms.Normalize((0.1307,), (0.3081,))\n",
    "])\n",
    "dataset = datasets.MNIST(root=f'{root_dir}/data', train=False, download=True, transform=transform)\n",
    "\n",
    "random_idx = random.randint(0, len(dataset) - 1)\n",
    "x = dataset[random_idx]\n",
    "\n",
    "print('Answer: ', x[1])\n",
    "\n",
    "x = x[0].unsqueeze(0)\n",
    "\n",
    "plt.imshow(x.squeeze(), cmap='gray')\n",
    "output = model(x)\n",
    "print(F.softmax(output))\n",
    "guess = torch.argmax(output, dim=1)\n",
    "print(f\"Guess: {guess.item()}\")"
   ]
  }
 ],
 "metadata": {
  "kernelspec": {
   "display_name": "ml",
   "language": "python",
   "name": "python3"
  },
  "language_info": {
   "codemirror_mode": {
    "name": "ipython",
    "version": 3
   },
   "file_extension": ".py",
   "mimetype": "text/x-python",
   "name": "python",
   "nbconvert_exporter": "python",
   "pygments_lexer": "ipython3",
   "version": "3.11.8"
  }
 },
 "nbformat": 4,
 "nbformat_minor": 2
}
